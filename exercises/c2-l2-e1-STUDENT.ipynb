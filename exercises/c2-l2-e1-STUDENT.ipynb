{
 "cells": [
  {
   "cell_type": "markdown",
   "id": "1ab8830d-edbf-4a1f-955c-27bcad1f1aec",
   "metadata": {},
   "source": [
    "# Exercise: Fixing Data in Pandas DataFrame\n",
    "\n",
    "In this exercise, you're given a small DataFrame of data that looks like it should be numeric. But when it's imported into Pandas, and you look at the `info()` for that DF, you notice it's actually been imported as a string! Oh no, with your data as strings, you can't do any data analysis. You'll practice how to fix that data to make it numeric and save the day."
   ]
  },
  {
   "cell_type": "code",
   "execution_count": null,
   "id": "cf6b6360-db0d-4787-8c08-31e8e711b1cd",
   "metadata": {},
   "outputs": [],
   "source": [
    "import pandas as pd"
   ]
  },
  {
   "cell_type": "code",
   "execution_count": null,
   "id": "17c6caa0-cf1c-408c-9fa0-48ecadd85193",
   "metadata": {},
   "outputs": [],
   "source": [
    "data = {\n",
    "    'Price': ['USD 10', 'USD 20', 'USD 30'],\n",
    "    'Revenue': ['+100', '-10', '+500'],\n",
    "    'Quantity': ['2', '4', '6']\n",
    "}"
   ]
  },
  {
   "cell_type": "code",
   "execution_count": null,
   "id": "54527fd8-fdc7-486f-9538-043cb426260e",
   "metadata": {},
   "outputs": [],
   "source": [
    "df = pd.DataFrame(data)"
   ]
  },
  {
   "cell_type": "code",
   "execution_count": null,
   "id": "1dce4e09-d32e-410c-94fe-ab86cf37524f",
   "metadata": {},
   "outputs": [],
   "source": [
    "df.info()"
   ]
  },
  {
   "cell_type": "code",
   "execution_count": null,
   "id": "cfc48478-6fa2-4a14-98da-d75af27fc8a7",
   "metadata": {},
   "outputs": [],
   "source": [
    "# your task: Fix the above DataFrame so that each column has numeric data (when you look at .info(), all columns should be a numeric type)\n",
    "\n",
    "\n"
   ]
  }
 ],
 "metadata": {
  "kernelspec": {
   "display_name": "Python 3 (ipykernel)",
   "language": "python",
   "name": "python3"
  },
  "language_info": {
   "codemirror_mode": {
    "name": "ipython",
    "version": 3
   },
   "file_extension": ".py",
   "mimetype": "text/x-python",
   "name": "python",
   "nbconvert_exporter": "python",
   "pygments_lexer": "ipython3",
   "version": "3.12.7"
  }
 },
 "nbformat": 4,
 "nbformat_minor": 5
}
