{
 "cells": [
  {
   "cell_type": "markdown",
   "id": "64ff6b59-fc6d-4f91-bd31-26ceb429d295",
   "metadata": {},
   "source": [
    "# Exercise: Pull Data From YahooFinance API\n",
    "\n",
    "You can't build trading models without financial data! A common source for data are APIs, which are a programmatic way to pull a lot of data from data brokers and vendors that make it available online. \n",
    "\n",
    "While many APIs will require an API key or token to identify you, you can use the [YahooFinance API](https://pypi.org/project/yfinance/) without a key for pulling simple and small amounts of historical data. \n",
    "\n",
    "Your task here is to: \n",
    "* If necessary, download the YahooFinance API Python wrapper package (called `yfinance`)\n",
    "* Use the `yfinance` package to download historical data for the last 3 years for at least 2 different stock tickers\n",
    "* Choose your favorite stocks to explore!"
   ]
  },
  {
   "cell_type": "code",
   "execution_count": null,
   "id": "07dfee7a-9774-413d-ba76-dcef337a2efd",
   "metadata": {},
   "outputs": [],
   "source": [
    "# ! pip install yfinance #uncomment this line and run it only once to download the library"
   ]
  },
  {
   "cell_type": "code",
   "execution_count": 1,
   "id": "e6a2381e-d8b9-49e0-b781-278c2075a1d3",
   "metadata": {},
   "outputs": [],
   "source": [
    "import pandas as pd\n",
    "import yfinance as yf # you may need to install the package first before doing the import "
   ]
  },
  {
   "cell_type": "code",
   "execution_count": 2,
   "id": "6014aebc-4423-4db5-8e60-8d6479ed452a",
   "metadata": {},
   "outputs": [],
   "source": [
    "# Define some variables you'll use for pulling in data\n",
    "\n",
    "stock_ticker_1 = 'AAPL'\n",
    "stock_ticker_2 = 'MSFT'\n",
    "\n",
    "start_date = '2020-01-01' # use format YYYY-MM-DD\n",
    "end_date = '2024-01-02'"
   ]
  },
  {
   "cell_type": "markdown",
   "id": "d8114802-27ba-4369-8455-565e0fc5c869",
   "metadata": {},
   "source": [
    "To use the YahooFinance API, you may find it useful to look at the documentation. Below, we've started the code for you using the method called download(). \n",
    "\n",
    "To figure out what to pass in to that method, take a look at [this page of the YF API documentation](https://github.com/ranaroussi/yfinance?tab=readme-ov-file#multiple-tickers)."
   ]
  },
  {
   "cell_type": "code",
   "execution_count": 5,
   "id": "bf50a54f-97c0-4cf3-aa09-2add734fe790",
   "metadata": {},
   "outputs": [
    {
     "name": "stderr",
     "output_type": "stream",
     "text": [
      "[*********************100%***********************]  1 of 1 completed\n"
     ]
    }
   ],
   "source": [
    "data_stock_1 = yf.download( stock_ticker_1, start= start_date, end = end_date ) # replace ... inside this function with the correct parameters in order to get your data"
   ]
  },
  {
   "cell_type": "code",
   "execution_count": 6,
   "id": "20cb6e97-2f43-468c-bb41-53ce79e4e033",
   "metadata": {},
   "outputs": [
    {
     "name": "stderr",
     "output_type": "stream",
     "text": [
      "[*********************100%***********************]  1 of 1 completed\n"
     ]
    }
   ],
   "source": [
    "data_stock_2 = yf.download( stock_ticker_2, start= start_date, end = end_date ) # replace ... inside this function with the correct parameters in order to get your data"
   ]
  },
  {
   "cell_type": "code",
   "execution_count": 7,
   "id": "822375f7-9f80-4836-b7e8-6692b974d4bc",
   "metadata": {},
   "outputs": [
    {
     "data": {
      "text/html": [
       "<div>\n",
       "<style scoped>\n",
       "    .dataframe tbody tr th:only-of-type {\n",
       "        vertical-align: middle;\n",
       "    }\n",
       "\n",
       "    .dataframe tbody tr th {\n",
       "        vertical-align: top;\n",
       "    }\n",
       "\n",
       "    .dataframe thead th {\n",
       "        text-align: right;\n",
       "    }\n",
       "</style>\n",
       "<table border=\"1\" class=\"dataframe\">\n",
       "  <thead>\n",
       "    <tr style=\"text-align: right;\">\n",
       "      <th></th>\n",
       "      <th>Open</th>\n",
       "      <th>High</th>\n",
       "      <th>Low</th>\n",
       "      <th>Close</th>\n",
       "      <th>Adj Close</th>\n",
       "      <th>Volume</th>\n",
       "    </tr>\n",
       "    <tr>\n",
       "      <th>Date</th>\n",
       "      <th></th>\n",
       "      <th></th>\n",
       "      <th></th>\n",
       "      <th></th>\n",
       "      <th></th>\n",
       "      <th></th>\n",
       "    </tr>\n",
       "  </thead>\n",
       "  <tbody>\n",
       "    <tr>\n",
       "      <th>2020-01-02</th>\n",
       "      <td>74.059998</td>\n",
       "      <td>75.150002</td>\n",
       "      <td>73.797501</td>\n",
       "      <td>75.087502</td>\n",
       "      <td>72.876114</td>\n",
       "      <td>135480400</td>\n",
       "    </tr>\n",
       "    <tr>\n",
       "      <th>2020-01-03</th>\n",
       "      <td>74.287498</td>\n",
       "      <td>75.144997</td>\n",
       "      <td>74.125000</td>\n",
       "      <td>74.357498</td>\n",
       "      <td>72.167610</td>\n",
       "      <td>146322800</td>\n",
       "    </tr>\n",
       "    <tr>\n",
       "      <th>2020-01-06</th>\n",
       "      <td>73.447502</td>\n",
       "      <td>74.989998</td>\n",
       "      <td>73.187500</td>\n",
       "      <td>74.949997</td>\n",
       "      <td>72.742638</td>\n",
       "      <td>118387200</td>\n",
       "    </tr>\n",
       "    <tr>\n",
       "      <th>2020-01-07</th>\n",
       "      <td>74.959999</td>\n",
       "      <td>75.224998</td>\n",
       "      <td>74.370003</td>\n",
       "      <td>74.597504</td>\n",
       "      <td>72.400551</td>\n",
       "      <td>108872000</td>\n",
       "    </tr>\n",
       "    <tr>\n",
       "      <th>2020-01-08</th>\n",
       "      <td>74.290001</td>\n",
       "      <td>76.110001</td>\n",
       "      <td>74.290001</td>\n",
       "      <td>75.797501</td>\n",
       "      <td>73.565208</td>\n",
       "      <td>132079200</td>\n",
       "    </tr>\n",
       "  </tbody>\n",
       "</table>\n",
       "</div>"
      ],
      "text/plain": [
       "                 Open       High        Low      Close  Adj Close     Volume\n",
       "Date                                                                        \n",
       "2020-01-02  74.059998  75.150002  73.797501  75.087502  72.876114  135480400\n",
       "2020-01-03  74.287498  75.144997  74.125000  74.357498  72.167610  146322800\n",
       "2020-01-06  73.447502  74.989998  73.187500  74.949997  72.742638  118387200\n",
       "2020-01-07  74.959999  75.224998  74.370003  74.597504  72.400551  108872000\n",
       "2020-01-08  74.290001  76.110001  74.290001  75.797501  73.565208  132079200"
      ]
     },
     "execution_count": 7,
     "metadata": {},
     "output_type": "execute_result"
    }
   ],
   "source": [
    "data_stock_1.head() # check if your download worked"
   ]
  },
  {
   "cell_type": "code",
   "execution_count": 8,
   "id": "26f65543-5d16-4c85-9417-1609ca70b969",
   "metadata": {},
   "outputs": [
    {
     "data": {
      "text/html": [
       "<div>\n",
       "<style scoped>\n",
       "    .dataframe tbody tr th:only-of-type {\n",
       "        vertical-align: middle;\n",
       "    }\n",
       "\n",
       "    .dataframe tbody tr th {\n",
       "        vertical-align: top;\n",
       "    }\n",
       "\n",
       "    .dataframe thead th {\n",
       "        text-align: right;\n",
       "    }\n",
       "</style>\n",
       "<table border=\"1\" class=\"dataframe\">\n",
       "  <thead>\n",
       "    <tr style=\"text-align: right;\">\n",
       "      <th></th>\n",
       "      <th>Open</th>\n",
       "      <th>High</th>\n",
       "      <th>Low</th>\n",
       "      <th>Close</th>\n",
       "      <th>Adj Close</th>\n",
       "      <th>Volume</th>\n",
       "    </tr>\n",
       "    <tr>\n",
       "      <th>Date</th>\n",
       "      <th></th>\n",
       "      <th></th>\n",
       "      <th></th>\n",
       "      <th></th>\n",
       "      <th></th>\n",
       "      <th></th>\n",
       "    </tr>\n",
       "  </thead>\n",
       "  <tbody>\n",
       "    <tr>\n",
       "      <th>2020-01-02</th>\n",
       "      <td>158.779999</td>\n",
       "      <td>160.729996</td>\n",
       "      <td>158.330002</td>\n",
       "      <td>160.619995</td>\n",
       "      <td>153.938217</td>\n",
       "      <td>22622100</td>\n",
       "    </tr>\n",
       "    <tr>\n",
       "      <th>2020-01-03</th>\n",
       "      <td>158.320007</td>\n",
       "      <td>159.949997</td>\n",
       "      <td>158.059998</td>\n",
       "      <td>158.619995</td>\n",
       "      <td>152.021378</td>\n",
       "      <td>21116200</td>\n",
       "    </tr>\n",
       "    <tr>\n",
       "      <th>2020-01-06</th>\n",
       "      <td>157.080002</td>\n",
       "      <td>159.100006</td>\n",
       "      <td>156.509995</td>\n",
       "      <td>159.029999</td>\n",
       "      <td>152.414352</td>\n",
       "      <td>20813700</td>\n",
       "    </tr>\n",
       "    <tr>\n",
       "      <th>2020-01-07</th>\n",
       "      <td>159.320007</td>\n",
       "      <td>159.669998</td>\n",
       "      <td>157.320007</td>\n",
       "      <td>157.580002</td>\n",
       "      <td>151.024643</td>\n",
       "      <td>21634100</td>\n",
       "    </tr>\n",
       "    <tr>\n",
       "      <th>2020-01-08</th>\n",
       "      <td>158.929993</td>\n",
       "      <td>160.800003</td>\n",
       "      <td>157.949997</td>\n",
       "      <td>160.089996</td>\n",
       "      <td>153.430283</td>\n",
       "      <td>27746500</td>\n",
       "    </tr>\n",
       "  </tbody>\n",
       "</table>\n",
       "</div>"
      ],
      "text/plain": [
       "                  Open        High         Low       Close   Adj Close  \\\n",
       "Date                                                                     \n",
       "2020-01-02  158.779999  160.729996  158.330002  160.619995  153.938217   \n",
       "2020-01-03  158.320007  159.949997  158.059998  158.619995  152.021378   \n",
       "2020-01-06  157.080002  159.100006  156.509995  159.029999  152.414352   \n",
       "2020-01-07  159.320007  159.669998  157.320007  157.580002  151.024643   \n",
       "2020-01-08  158.929993  160.800003  157.949997  160.089996  153.430283   \n",
       "\n",
       "              Volume  \n",
       "Date                  \n",
       "2020-01-02  22622100  \n",
       "2020-01-03  21116200  \n",
       "2020-01-06  20813700  \n",
       "2020-01-07  21634100  \n",
       "2020-01-08  27746500  "
      ]
     },
     "execution_count": 8,
     "metadata": {},
     "output_type": "execute_result"
    }
   ],
   "source": [
    "data_stock_2.head() # check if your download worked "
   ]
  },
  {
   "cell_type": "code",
   "execution_count": null,
   "id": "628aa8c7-a38a-43b4-bb97-82bf6ab5a9c0",
   "metadata": {},
   "outputs": [],
   "source": []
  }
 ],
 "metadata": {
  "kernelspec": {
   "display_name": "Python 3 (ipykernel)",
   "language": "python",
   "name": "python3"
  },
  "language_info": {
   "codemirror_mode": {
    "name": "ipython",
    "version": 3
   },
   "file_extension": ".py",
   "mimetype": "text/x-python",
   "name": "python",
   "nbconvert_exporter": "python",
   "pygments_lexer": "ipython3",
   "version": "3.12.7"
  }
 },
 "nbformat": 4,
 "nbformat_minor": 5
}
