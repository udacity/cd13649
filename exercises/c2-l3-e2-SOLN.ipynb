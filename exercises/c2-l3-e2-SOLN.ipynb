{
 "cells": [
  {
   "cell_type": "markdown",
   "id": "d20767aa-def3-4e50-b194-9e327b523b04",
   "metadata": {},
   "source": [
    "# Exercise: Time Series Manipulations in Pandas\n",
    "\n",
    "Like in prior exercises, you'll download a ticker's historical data from YahooFinance. But raw data isn't that useful by itself, so in this exercise you'll get practice with manipulating time series data in Pandas. "
   ]
  },
  {
   "cell_type": "code",
   "execution_count": 2,
   "id": "43a37184-44e1-41e2-a8b9-d776b56a92d6",
   "metadata": {},
   "outputs": [],
   "source": [
    "import pandas as pd\n",
    "import yfinance as yf"
   ]
  },
  {
   "cell_type": "markdown",
   "id": "71fb6221-5044-43c9-bf58-c361cc16a2b0",
   "metadata": {},
   "source": [
    "**Pull data for your favorite ticker from YahooFinance**\n",
    "\n",
    "Use the YF API to pull **daily** price data for at least 3 years for any stock ticker you'd like."
   ]
  },
  {
   "cell_type": "code",
   "execution_count": 3,
   "id": "c4b0b596-a1e0-4189-ae46-377a6c64da75",
   "metadata": {},
   "outputs": [
    {
     "name": "stderr",
     "output_type": "stream",
     "text": [
      "[*********************100%***********************]  1 of 1 completed\n"
     ]
    }
   ],
   "source": [
    "stock_ticker = 'AAPL'\n",
    "start_date = '2020-01-01' # use format YYYY-MM-DD\n",
    "end_date = '2024-01-02'\n",
    "\n",
    "data = yf.download( stock_ticker, start= start_date, end = end_date ) "
   ]
  },
  {
   "cell_type": "markdown",
   "id": "13086f04-973b-4199-a932-5fb3945b8879",
   "metadata": {},
   "source": [
    "**Resample from daily to weekly, taking the Friday price**\n",
    "\n",
    "Using the above data, resample your `closing` price to weekly. In the demo, we used the last day of the period. In this exercise, can you figure out how to pull the weekly data that's for Friday specifically? "
   ]
  },
  {
   "cell_type": "code",
   "execution_count": 4,
   "id": "190edac7-7198-44f5-bde6-3cea8a78486a",
   "metadata": {},
   "outputs": [],
   "source": [
    "weekly_data_friday = data['Close'].resample('W-FRI').last()"
   ]
  },
  {
   "cell_type": "markdown",
   "id": "b6495300-1013-4e2f-97bb-04626baddf95",
   "metadata": {},
   "source": [
    "### NOTE: Solution uses anchored offsets. Info here: https://pandas.pydata.org/pandas-docs/stable/user_guide/timeseries.html#anchored-offsets"
   ]
  },
  {
   "cell_type": "markdown",
   "id": "2b420bc1-c4e8-4425-bd68-d3ea6dcdea5e",
   "metadata": {},
   "source": [
    "**Taking time-based slice of your data**\n",
    "\n",
    "Above you pulled the last 3 years of data for a given ticker. But in lots of trading applications, you don't need data that goes that far back in time as trends and underlying phenomenon have changed. \n",
    "\n",
    "Can you take just the last 3 months of data and put it into a new DataFrame? "
   ]
  },
  {
   "cell_type": "code",
   "execution_count": 7,
   "id": "24b16023-fde5-4a22-b57f-2db1ea2ef711",
   "metadata": {},
   "outputs": [
    {
     "data": {
      "text/plain": [
       "Timestamp('2023-09-29 00:00:00')"
      ]
     },
     "execution_count": 7,
     "metadata": {},
     "output_type": "execute_result"
    }
   ],
   "source": [
    "three_months_ago = data.index.max() - pd.DateOffset(months=3)\n",
    "three_months_ago"
   ]
  },
  {
   "cell_type": "code",
   "execution_count": 8,
   "id": "e67408ae-34be-4d96-a2c0-b709ba0bb489",
   "metadata": {},
   "outputs": [
    {
     "data": {
      "text/html": [
       "<div>\n",
       "<style scoped>\n",
       "    .dataframe tbody tr th:only-of-type {\n",
       "        vertical-align: middle;\n",
       "    }\n",
       "\n",
       "    .dataframe tbody tr th {\n",
       "        vertical-align: top;\n",
       "    }\n",
       "\n",
       "    .dataframe thead th {\n",
       "        text-align: right;\n",
       "    }\n",
       "</style>\n",
       "<table border=\"1\" class=\"dataframe\">\n",
       "  <thead>\n",
       "    <tr style=\"text-align: right;\">\n",
       "      <th></th>\n",
       "      <th>Open</th>\n",
       "      <th>High</th>\n",
       "      <th>Low</th>\n",
       "      <th>Close</th>\n",
       "      <th>Adj Close</th>\n",
       "      <th>Volume</th>\n",
       "    </tr>\n",
       "    <tr>\n",
       "      <th>Date</th>\n",
       "      <th></th>\n",
       "      <th></th>\n",
       "      <th></th>\n",
       "      <th></th>\n",
       "      <th></th>\n",
       "      <th></th>\n",
       "    </tr>\n",
       "  </thead>\n",
       "  <tbody>\n",
       "    <tr>\n",
       "      <th>2023-09-29</th>\n",
       "      <td>172.020004</td>\n",
       "      <td>173.070007</td>\n",
       "      <td>170.339996</td>\n",
       "      <td>171.210007</td>\n",
       "      <td>170.338364</td>\n",
       "      <td>51814200</td>\n",
       "    </tr>\n",
       "    <tr>\n",
       "      <th>2023-10-02</th>\n",
       "      <td>171.220001</td>\n",
       "      <td>174.300003</td>\n",
       "      <td>170.929993</td>\n",
       "      <td>173.750000</td>\n",
       "      <td>172.865433</td>\n",
       "      <td>52164500</td>\n",
       "    </tr>\n",
       "    <tr>\n",
       "      <th>2023-10-03</th>\n",
       "      <td>172.259995</td>\n",
       "      <td>173.630005</td>\n",
       "      <td>170.820007</td>\n",
       "      <td>172.399994</td>\n",
       "      <td>171.522293</td>\n",
       "      <td>49594600</td>\n",
       "    </tr>\n",
       "    <tr>\n",
       "      <th>2023-10-04</th>\n",
       "      <td>171.089996</td>\n",
       "      <td>174.210007</td>\n",
       "      <td>170.970001</td>\n",
       "      <td>173.660004</td>\n",
       "      <td>172.775879</td>\n",
       "      <td>53020300</td>\n",
       "    </tr>\n",
       "    <tr>\n",
       "      <th>2023-10-05</th>\n",
       "      <td>173.789993</td>\n",
       "      <td>175.449997</td>\n",
       "      <td>172.679993</td>\n",
       "      <td>174.910004</td>\n",
       "      <td>174.019516</td>\n",
       "      <td>48527900</td>\n",
       "    </tr>\n",
       "  </tbody>\n",
       "</table>\n",
       "</div>"
      ],
      "text/plain": [
       "                  Open        High         Low       Close   Adj Close  \\\n",
       "Date                                                                     \n",
       "2023-09-29  172.020004  173.070007  170.339996  171.210007  170.338364   \n",
       "2023-10-02  171.220001  174.300003  170.929993  173.750000  172.865433   \n",
       "2023-10-03  172.259995  173.630005  170.820007  172.399994  171.522293   \n",
       "2023-10-04  171.089996  174.210007  170.970001  173.660004  172.775879   \n",
       "2023-10-05  173.789993  175.449997  172.679993  174.910004  174.019516   \n",
       "\n",
       "              Volume  \n",
       "Date                  \n",
       "2023-09-29  51814200  \n",
       "2023-10-02  52164500  \n",
       "2023-10-03  49594600  \n",
       "2023-10-04  53020300  \n",
       "2023-10-05  48527900  "
      ]
     },
     "execution_count": 8,
     "metadata": {},
     "output_type": "execute_result"
    }
   ],
   "source": [
    "last_3_months = data[ data.index >= three_months_ago ] \n",
    "last_3_months.head()"
   ]
  },
  {
   "cell_type": "code",
   "execution_count": 10,
   "id": "a6aaa111-7617-40e4-874b-7bf771373e68",
   "metadata": {},
   "outputs": [
    {
     "data": {
      "text/html": [
       "<div>\n",
       "<style scoped>\n",
       "    .dataframe tbody tr th:only-of-type {\n",
       "        vertical-align: middle;\n",
       "    }\n",
       "\n",
       "    .dataframe tbody tr th {\n",
       "        vertical-align: top;\n",
       "    }\n",
       "\n",
       "    .dataframe thead th {\n",
       "        text-align: right;\n",
       "    }\n",
       "</style>\n",
       "<table border=\"1\" class=\"dataframe\">\n",
       "  <thead>\n",
       "    <tr style=\"text-align: right;\">\n",
       "      <th></th>\n",
       "      <th>Open</th>\n",
       "      <th>High</th>\n",
       "      <th>Low</th>\n",
       "      <th>Close</th>\n",
       "      <th>Adj Close</th>\n",
       "      <th>Volume</th>\n",
       "    </tr>\n",
       "    <tr>\n",
       "      <th>Date</th>\n",
       "      <th></th>\n",
       "      <th></th>\n",
       "      <th></th>\n",
       "      <th></th>\n",
       "      <th></th>\n",
       "      <th></th>\n",
       "    </tr>\n",
       "  </thead>\n",
       "  <tbody>\n",
       "    <tr>\n",
       "      <th>2023-12-22</th>\n",
       "      <td>195.179993</td>\n",
       "      <td>195.410004</td>\n",
       "      <td>192.970001</td>\n",
       "      <td>193.600006</td>\n",
       "      <td>192.868134</td>\n",
       "      <td>37122800</td>\n",
       "    </tr>\n",
       "    <tr>\n",
       "      <th>2023-12-26</th>\n",
       "      <td>193.610001</td>\n",
       "      <td>193.889999</td>\n",
       "      <td>192.830002</td>\n",
       "      <td>193.050003</td>\n",
       "      <td>192.320221</td>\n",
       "      <td>28919300</td>\n",
       "    </tr>\n",
       "    <tr>\n",
       "      <th>2023-12-27</th>\n",
       "      <td>192.490005</td>\n",
       "      <td>193.500000</td>\n",
       "      <td>191.089996</td>\n",
       "      <td>193.149994</td>\n",
       "      <td>192.419830</td>\n",
       "      <td>48087700</td>\n",
       "    </tr>\n",
       "    <tr>\n",
       "      <th>2023-12-28</th>\n",
       "      <td>194.139999</td>\n",
       "      <td>194.660004</td>\n",
       "      <td>193.169998</td>\n",
       "      <td>193.580002</td>\n",
       "      <td>192.848206</td>\n",
       "      <td>34049900</td>\n",
       "    </tr>\n",
       "    <tr>\n",
       "      <th>2023-12-29</th>\n",
       "      <td>193.899994</td>\n",
       "      <td>194.399994</td>\n",
       "      <td>191.729996</td>\n",
       "      <td>192.529999</td>\n",
       "      <td>191.802170</td>\n",
       "      <td>42628800</td>\n",
       "    </tr>\n",
       "  </tbody>\n",
       "</table>\n",
       "</div>"
      ],
      "text/plain": [
       "                  Open        High         Low       Close   Adj Close  \\\n",
       "Date                                                                     \n",
       "2023-12-22  195.179993  195.410004  192.970001  193.600006  192.868134   \n",
       "2023-12-26  193.610001  193.889999  192.830002  193.050003  192.320221   \n",
       "2023-12-27  192.490005  193.500000  191.089996  193.149994  192.419830   \n",
       "2023-12-28  194.139999  194.660004  193.169998  193.580002  192.848206   \n",
       "2023-12-29  193.899994  194.399994  191.729996  192.529999  191.802170   \n",
       "\n",
       "              Volume  \n",
       "Date                  \n",
       "2023-12-22  37122800  \n",
       "2023-12-26  28919300  \n",
       "2023-12-27  48087700  \n",
       "2023-12-28  34049900  \n",
       "2023-12-29  42628800  "
      ]
     },
     "execution_count": 10,
     "metadata": {},
     "output_type": "execute_result"
    }
   ],
   "source": [
    "last_3_months.tail()"
   ]
  },
  {
   "cell_type": "code",
   "execution_count": null,
   "id": "3825ed97-876b-4592-9d36-c368a4705a9b",
   "metadata": {},
   "outputs": [],
   "source": []
  }
 ],
 "metadata": {
  "kernelspec": {
   "display_name": "Python 3 (ipykernel)",
   "language": "python",
   "name": "python3"
  },
  "language_info": {
   "codemirror_mode": {
    "name": "ipython",
    "version": 3
   },
   "file_extension": ".py",
   "mimetype": "text/x-python",
   "name": "python",
   "nbconvert_exporter": "python",
   "pygments_lexer": "ipython3",
   "version": "3.12.7"
  }
 },
 "nbformat": 4,
 "nbformat_minor": 5
}
