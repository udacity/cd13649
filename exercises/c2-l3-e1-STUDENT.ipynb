{
 "cells": [
  {
   "cell_type": "markdown",
   "id": "46dc2beb-8580-4eca-9a45-e0be76831800",
   "metadata": {},
   "source": [
    "# Exercise: Feature Engineering for Trading Models \n",
    "\n",
    "In this exercise, you'll get practice engineering features for trading models. You can use built-in Pandas methods to do this feature engineering. In the demo, we'll show you how to use a more specialized library called `ta` to do technical analysis feature engineering. "
   ]
  },
  {
   "cell_type": "code",
   "execution_count": null,
   "id": "95c38983-59ee-4cc1-8014-8befef7b75cc",
   "metadata": {},
   "outputs": [],
   "source": [
    "import pandas as pd\n",
    "import yfinance as yf"
   ]
  },
  {
   "cell_type": "markdown",
   "id": "80557948-987d-4392-bfe6-37c126a8d419",
   "metadata": {},
   "source": [
    "**Pull data for one stock ticker from YahooFinance**\n",
    "\n",
    "Use the YF API to pull daily price data for at least 2 years for any stock ticker you'd like."
   ]
  },
  {
   "cell_type": "code",
   "execution_count": null,
   "id": "16691348-683e-4eb7-baac-ef1e62740e31",
   "metadata": {},
   "outputs": [],
   "source": [
    "stock_ticker = ''\n",
    "start_date = '' # use format YYYY-MM-DD\n",
    "end_date = ''"
   ]
  },
  {
   "cell_type": "code",
   "execution_count": null,
   "id": "47db4008-40f1-47fa-a91e-b5788b1d98c4",
   "metadata": {},
   "outputs": [],
   "source": [
    "data = yf.download( ... ) # replace ... inside this function with the correct parameters in order to get your data"
   ]
  },
  {
   "cell_type": "markdown",
   "id": "590c0326-987e-4ac7-8d7e-2bc2372c3aee",
   "metadata": {},
   "source": [
    "**Calculate the 10-day momentum for the above ticker's closing price**\n",
    "\n",
    "Recall that the 10-day momentum is the rate of change of a price over a 10-day period. It's used in technical analysis to see in which direction and with what magnitude an asset's price is moving. \n",
    "\n",
    "To calculate the rate of change, recall you can use the Pandas method `pct_change()`. To get a 10-day rate of change speficially, you'll have to pass in some parameter to the `pct_change()` method. Reading the documentation for that method may help: \n",
    "\n"
   ]
  },
  {
   "cell_type": "code",
   "execution_count": null,
   "id": "b9338e55-1764-4411-bbea-d3f52a6c5f12",
   "metadata": {},
   "outputs": [],
   "source": [
    "data['10_day_momentum'] = ... # replace ... to get the answer"
   ]
  },
  {
   "cell_type": "markdown",
   "id": "bf0e0c80-b665-4c86-84cf-b909f86dd90d",
   "metadata": {},
   "source": [
    "**Calculate a 12-day and 26-day exponential moving average**\n",
    "\n",
    "Using the closing price for your stock, use Pandas to calculate a 12-day and 26-day EMA (exponential moving average). Look into the Pandas method `ewm()`, which was used in the demo. "
   ]
  },
  {
   "cell_type": "code",
   "execution_count": null,
   "id": "80e8373a-b82c-4b35-8692-618d294761d5",
   "metadata": {},
   "outputs": [],
   "source": [
    "data['EMA_12'] = ... #replace ...\n",
    "data['EMA_26'] = ... #replace ..."
   ]
  },
  {
   "cell_type": "markdown",
   "id": "a132f0b0-e615-4342-a004-4c88c83e762a",
   "metadata": {},
   "source": [
    "**Manually calculate the MACD (moving average convergence divergence)**\n",
    "\n",
    "Recall that the MACD is calculated as the 12-day exponential moving average minus the 26-day. Use the above step to calculate the MACD. You'll have to create your own column for this step. \n"
   ]
  },
  {
   "cell_type": "code",
   "execution_count": null,
   "id": "f06753e5-4ad4-421c-aa4e-c6208dadc70a",
   "metadata": {},
   "outputs": [],
   "source": [
    "# calculate the MACD and save it to a new column in your dataframe \n",
    "\n"
   ]
  },
  {
   "cell_type": "markdown",
   "id": "d48acfe9-451e-4514-94bc-70744ecf8b46",
   "metadata": {},
   "source": [
    "**Manually calculate the MACD Signal**\n",
    "\n",
    "Recall that the MACD signal (discussed in the feature engineering demo) is calculated as the 9-period exponential moving average of the MACD (calculated in the prior step). Can you manually use Pandas methods to calculate the MACD signal? Create a new column for it in your dataframe. "
   ]
  },
  {
   "cell_type": "code",
   "execution_count": null,
   "id": "aa8f61e8-48c3-4945-b3cf-fcb187cecd44",
   "metadata": {},
   "outputs": [],
   "source": [
    "# calculate the MACD signal using the above MACD using only Pandas methods (don't use the ta library shown in the demo) \n",
    "\n",
    "\n"
   ]
  }
 ],
 "metadata": {
  "kernelspec": {
   "display_name": "Python 3 (ipykernel)",
   "language": "python",
   "name": "python3"
  },
  "language_info": {
   "codemirror_mode": {
    "name": "ipython",
    "version": 3
   },
   "file_extension": ".py",
   "mimetype": "text/x-python",
   "name": "python",
   "nbconvert_exporter": "python",
   "pygments_lexer": "ipython3",
   "version": "3.12.7"
  }
 },
 "nbformat": 4,
 "nbformat_minor": 5
}
